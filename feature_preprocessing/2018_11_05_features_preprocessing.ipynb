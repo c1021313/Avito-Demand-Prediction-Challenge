{
 "cells": [
  {
   "cell_type": "markdown",
   "metadata": {},
   "source": [
    "---\n",
    "\n",
    "# <span style=\"color:navy\"> 1. 新增特徵 </span>"
   ]
  },
  {
   "cell_type": "markdown",
   "metadata": {},
   "source": [
    "### 1-1. 利用user_id結合user相關資訊  \n",
    "https://www.kaggle.com/bminixhofer/aggregated-features-lightgbm\n",
    "  * avg_days_up_user\n",
    "  * avg_times_up_user\n",
    "  * n_user_items"
   ]
  },
  {
   "cell_type": "markdown",
   "metadata": {},
   "source": [
    "### 1-2. 利用region/city查詢google API對應的經緯度資訊\n",
    "https://www.kaggle.com/frankherfert/region-and-city-details-with-lat-lon-and-clusters\n",
    "  * emb_lat_lon_hdbscan_cluster_05_03\n",
    "  * emb_lat_lon_hdbscan_cluster_10_03\n",
    "  * emb_lat_lon_hdbscan_cluster_20_03\n",
    "  * latitude\n",
    "  * longitude"
   ]
  },
  {
   "cell_type": "code",
   "execution_count": 4,
   "metadata": {},
   "outputs": [
    {
     "data": {
      "text/html": [
       "<div>\n",
       "<style scoped>\n",
       "    .dataframe tbody tr th:only-of-type {\n",
       "        vertical-align: middle;\n",
       "    }\n",
       "\n",
       "    .dataframe tbody tr th {\n",
       "        vertical-align: top;\n",
       "    }\n",
       "\n",
       "    .dataframe thead th {\n",
       "        text-align: right;\n",
       "    }\n",
       "</style>\n",
       "<table border=\"1\" class=\"dataframe\">\n",
       "  <thead>\n",
       "    <tr style=\"text-align: right;\">\n",
       "      <th></th>\n",
       "      <th>item_id</th>\n",
       "      <th>user_id</th>\n",
       "      <th>region</th>\n",
       "      <th>city</th>\n",
       "      <th>parent_category_name</th>\n",
       "      <th>category_name</th>\n",
       "      <th>param_1</th>\n",
       "      <th>param_2</th>\n",
       "      <th>param_3</th>\n",
       "      <th>title</th>\n",
       "      <th>...</th>\n",
       "      <th>avg_times_up_user</th>\n",
       "      <th>n_user_items</th>\n",
       "      <th>city_region</th>\n",
       "      <th>latitude</th>\n",
       "      <th>longitude</th>\n",
       "      <th>lat_lon_hdbscan_cluster_05_03</th>\n",
       "      <th>lat_lon_hdbscan_cluster_10_03</th>\n",
       "      <th>lat_lon_hdbscan_cluster_20_03</th>\n",
       "      <th>region_id</th>\n",
       "      <th>city_region_id</th>\n",
       "    </tr>\n",
       "  </thead>\n",
       "  <tbody>\n",
       "    <tr>\n",
       "      <th>0</th>\n",
       "      <td>b912c3c6a6ad</td>\n",
       "      <td>e00f8ff2eaf9</td>\n",
       "      <td>Свердловская область</td>\n",
       "      <td>Екатеринбург</td>\n",
       "      <td>Личные вещи</td>\n",
       "      <td>Товары для детей и игрушки</td>\n",
       "      <td>Постельные принадлежности</td>\n",
       "      <td>NaN</td>\n",
       "      <td>NaN</td>\n",
       "      <td>Кокоби(кокон для сна)</td>\n",
       "      <td>...</td>\n",
       "      <td>2.000000</td>\n",
       "      <td>2</td>\n",
       "      <td>Екатеринбург Свердловская область</td>\n",
       "      <td>56.838926</td>\n",
       "      <td>60.605702</td>\n",
       "      <td>65</td>\n",
       "      <td>38</td>\n",
       "      <td>21</td>\n",
       "      <td>19</td>\n",
       "      <td>477</td>\n",
       "    </tr>\n",
       "    <tr>\n",
       "      <th>1</th>\n",
       "      <td>2dac0150717d</td>\n",
       "      <td>39aeb48f0017</td>\n",
       "      <td>Самарская область</td>\n",
       "      <td>Самара</td>\n",
       "      <td>Для дома и дачи</td>\n",
       "      <td>Мебель и интерьер</td>\n",
       "      <td>Другое</td>\n",
       "      <td>NaN</td>\n",
       "      <td>NaN</td>\n",
       "      <td>Стойка для Одежды</td>\n",
       "      <td>...</td>\n",
       "      <td>NaN</td>\n",
       "      <td>1</td>\n",
       "      <td>Самара Самарская область</td>\n",
       "      <td>53.241504</td>\n",
       "      <td>50.221246</td>\n",
       "      <td>58</td>\n",
       "      <td>36</td>\n",
       "      <td>19</td>\n",
       "      <td>17</td>\n",
       "      <td>1370</td>\n",
       "    </tr>\n",
       "    <tr>\n",
       "      <th>2</th>\n",
       "      <td>ba83aefab5dc</td>\n",
       "      <td>91e2f88dd6e3</td>\n",
       "      <td>Ростовская область</td>\n",
       "      <td>Ростов-на-Дону</td>\n",
       "      <td>Бытовая электроника</td>\n",
       "      <td>Аудио и видео</td>\n",
       "      <td>Видео, DVD и Blu-ray плееры</td>\n",
       "      <td>NaN</td>\n",
       "      <td>NaN</td>\n",
       "      <td>Philips bluray</td>\n",
       "      <td>...</td>\n",
       "      <td>1.142857</td>\n",
       "      <td>9</td>\n",
       "      <td>Ростов-на-Дону Ростовская область</td>\n",
       "      <td>47.235714</td>\n",
       "      <td>39.701505</td>\n",
       "      <td>46</td>\n",
       "      <td>40</td>\n",
       "      <td>9</td>\n",
       "      <td>16</td>\n",
       "      <td>1346</td>\n",
       "    </tr>\n",
       "    <tr>\n",
       "      <th>3</th>\n",
       "      <td>02996f1dd2ea</td>\n",
       "      <td>bf5cccea572d</td>\n",
       "      <td>Татарстан</td>\n",
       "      <td>Набережные Челны</td>\n",
       "      <td>Личные вещи</td>\n",
       "      <td>Товары для детей и игрушки</td>\n",
       "      <td>Автомобильные кресла</td>\n",
       "      <td>NaN</td>\n",
       "      <td>NaN</td>\n",
       "      <td>Автокресло</td>\n",
       "      <td>...</td>\n",
       "      <td>2.642857</td>\n",
       "      <td>32</td>\n",
       "      <td>Набережные Челны Татарстан</td>\n",
       "      <td>55.718505</td>\n",
       "      <td>52.372104</td>\n",
       "      <td>55</td>\n",
       "      <td>33</td>\n",
       "      <td>18</td>\n",
       "      <td>21</td>\n",
       "      <td>982</td>\n",
       "    </tr>\n",
       "    <tr>\n",
       "      <th>4</th>\n",
       "      <td>7c90be56d2ab</td>\n",
       "      <td>ef50846afc0b</td>\n",
       "      <td>Волгоградская область</td>\n",
       "      <td>Волгоград</td>\n",
       "      <td>Транспорт</td>\n",
       "      <td>Автомобили</td>\n",
       "      <td>С пробегом</td>\n",
       "      <td>ВАЗ (LADA)</td>\n",
       "      <td>2110</td>\n",
       "      <td>ВАЗ 2110, 2003</td>\n",
       "      <td>...</td>\n",
       "      <td>NaN</td>\n",
       "      <td>1</td>\n",
       "      <td>Волгоград Волгоградская область</td>\n",
       "      <td>48.708048</td>\n",
       "      <td>44.513303</td>\n",
       "      <td>31</td>\n",
       "      <td>17</td>\n",
       "      <td>-1</td>\n",
       "      <td>4</td>\n",
       "      <td>327</td>\n",
       "    </tr>\n",
       "  </tbody>\n",
       "</table>\n",
       "<p>5 rows × 29 columns</p>\n",
       "</div>"
      ],
      "text/plain": [
       "        item_id       user_id                 region              city  \\\n",
       "0  b912c3c6a6ad  e00f8ff2eaf9   Свердловская область      Екатеринбург   \n",
       "1  2dac0150717d  39aeb48f0017      Самарская область            Самара   \n",
       "2  ba83aefab5dc  91e2f88dd6e3     Ростовская область    Ростов-на-Дону   \n",
       "3  02996f1dd2ea  bf5cccea572d              Татарстан  Набережные Челны   \n",
       "4  7c90be56d2ab  ef50846afc0b  Волгоградская область         Волгоград   \n",
       "\n",
       "  parent_category_name               category_name  \\\n",
       "0          Личные вещи  Товары для детей и игрушки   \n",
       "1      Для дома и дачи           Мебель и интерьер   \n",
       "2  Бытовая электроника               Аудио и видео   \n",
       "3          Личные вещи  Товары для детей и игрушки   \n",
       "4            Транспорт                  Автомобили   \n",
       "\n",
       "                       param_1     param_2 param_3                  title  \\\n",
       "0    Постельные принадлежности         NaN     NaN  Кокоби(кокон для сна)   \n",
       "1                       Другое         NaN     NaN      Стойка для Одежды   \n",
       "2  Видео, DVD и Blu-ray плееры         NaN     NaN         Philips bluray   \n",
       "3         Автомобильные кресла         NaN     NaN             Автокресло   \n",
       "4                   С пробегом  ВАЗ (LADA)    2110         ВАЗ 2110, 2003   \n",
       "\n",
       "        ...       avg_times_up_user  n_user_items  \\\n",
       "0       ...                2.000000             2   \n",
       "1       ...                     NaN             1   \n",
       "2       ...                1.142857             9   \n",
       "3       ...                2.642857            32   \n",
       "4       ...                     NaN             1   \n",
       "\n",
       "                         city_region   latitude  longitude  \\\n",
       "0  Екатеринбург Свердловская область  56.838926  60.605702   \n",
       "1           Самара Самарская область  53.241504  50.221246   \n",
       "2  Ростов-на-Дону Ростовская область  47.235714  39.701505   \n",
       "3         Набережные Челны Татарстан  55.718505  52.372104   \n",
       "4    Волгоград Волгоградская область  48.708048  44.513303   \n",
       "\n",
       "  lat_lon_hdbscan_cluster_05_03  lat_lon_hdbscan_cluster_10_03  \\\n",
       "0                            65                             38   \n",
       "1                            58                             36   \n",
       "2                            46                             40   \n",
       "3                            55                             33   \n",
       "4                            31                             17   \n",
       "\n",
       "   lat_lon_hdbscan_cluster_20_03  region_id  city_region_id  \n",
       "0                             21         19             477  \n",
       "1                             19         17            1370  \n",
       "2                              9         16            1346  \n",
       "3                             18         21             982  \n",
       "4                             -1          4             327  \n",
       "\n",
       "[5 rows x 29 columns]"
      ]
     },
     "execution_count": 4,
     "metadata": {},
     "output_type": "execute_result"
    }
   ],
   "source": [
    "train.head()"
   ]
  },
  {
   "cell_type": "markdown",
   "metadata": {},
   "source": [
    "# <span style=\"color:navy\"> 2. 特徵前處理 > 文字 </span>"
   ]
  },
  {
   "cell_type": "markdown",
   "metadata": {},
   "source": [
    "* Param1  \n",
    "* Param2 \n",
    "* Param3 \n",
    "* Title \n",
    "* Description"
   ]
  },
  {
   "cell_type": "markdown",
   "metadata": {},
   "source": [
    "# ------------------------------------------------------------------------------------------------------\n",
    "### Frequency Based Embedding  \n",
    "A. CountVector  \n",
    "B. TF-IDF  \n",
    "C. Co-Occurence\n",
    "\n",
    "### Prediction Based Embedding  \n",
    "D. Word2Vec  \n",
    "E. FastText  \n",
    "\n",
    "# ------------------------------------------------------------------------------------------------------\n",
    "\n",
    "  \n",
    "  \n",
    "  \n",
    "  \n",
    "\n",
    "\n",
    "\n",
    "  \n",
    "    \n",
    "      \n",
    "        \n",
    "          "
   ]
  },
  {
   "cell_type": "markdown",
   "metadata": {},
   "source": [
    "  \n",
    "# <span style=\"color:green\">  A. CountVector  </span>"
   ]
  },
  {
   "cell_type": "markdown",
   "metadata": {},
   "source": [
    "### >> 詞頻矩陣"
   ]
  },
  {
   "cell_type": "markdown",
   "metadata": {},
   "source": [
    "<img src=\"https://csiu.github.io/blog//img/figure/2017-04-15/doc-word.png\" width=\"60%\">\n"
   ]
  },
  {
   "cell_type": "code",
   "execution_count": 5,
   "metadata": {},
   "outputs": [],
   "source": [
    "txt = [\"I do like to play basketball\",\n",
    "       \"I do not like to play basketball\"]"
   ]
  },
  {
   "cell_type": "code",
   "execution_count": 6,
   "metadata": {},
   "outputs": [],
   "source": [
    "from sklearn.feature_extraction.text import CountVectorizer\n",
    "from sklearn.feature_extraction.text import TfidfVectorizer\n",
    "count_vec = CountVectorizer(analyzer='word', \n",
    "                            ngram_range=(1, 1), max_df=1.0, min_df=1, max_features=None)\n",
    "\n",
    "# Transforms the data into a bag of words\n",
    "count_train = count_vec.fit(txt)\n",
    "bag_of_words = count_vec.transform(txt)\n"
   ]
  },
  {
   "cell_type": "code",
   "execution_count": 7,
   "metadata": {},
   "outputs": [
    {
     "name": "stdout",
     "output_type": "stream",
     "text": [
      "Vocabulary size: 6\n",
      "Vocabulary content:\n",
      " {'not': 3, 'like': 2, 'to': 5, 'basketball': 0, 'play': 4, 'do': 1}\n"
     ]
    }
   ],
   "source": [
    "print(\"Vocabulary size: {}\".format(len(count_train.vocabulary_)))\n",
    "print(\"Vocabulary content:\\n {}\".format(count_train.vocabulary_))"
   ]
  },
  {
   "cell_type": "code",
   "execution_count": 8,
   "metadata": {},
   "outputs": [
    {
     "name": "stdout",
     "output_type": "stream",
     "text": [
      "[[1 1 1 0 1 1]\n",
      " [1 1 1 1 1 1]]\n"
     ]
    }
   ],
   "source": [
    "print(bag_of_words.toarray())"
   ]
  },
  {
   "cell_type": "markdown",
   "metadata": {},
   "source": [
    "   \n",
    "   \n",
    "# <span style=\"color:green\">  B. TfidfVectorizer  </span>"
   ]
  },
  {
   "cell_type": "markdown",
   "metadata": {},
   "source": [
    "### >>> TF-IDF 為一種文字探勘處理的工具，主要用為資訊檢索、文字探勘等做為權重或是Feature selection"
   ]
  },
  {
   "cell_type": "markdown",
   "metadata": {},
   "source": [
    "<img src=\"https://1.bp.blogspot.com/-tnzPA6dDtTU/Vw6EWm_PjCI/AAAAAAABDwI/JatHtUJb4fsce9E-Ns5t02_nakFtGrsugCLcB/s1600/%25E8%259E%25A2%25E5%25B9%2595%25E5%25BF%25AB%25E7%2585%25A7%2B2016-04-14%2B%25E4%25B8%258A%25E5%258D%25881.39.07.png\" width=\"60%\">"
   ]
  },
  {
   "cell_type": "markdown",
   "metadata": {},
   "source": [
    "\n",
    "<img src=\"http://i0.wp.com/mmbiz.qpic.cn/mmbiz_png/KdayOo3PqHA4F4F0nyTJ3FAxSuQSPDdcFKBWCcxT28h7pGia9MO1ibaDg6p94s9ibEuPtyh2HOr8cSWauNX1J0obw/0?wx_fmt=png\" width=\"60%\">\n"
   ]
  },
  {
   "cell_type": "code",
   "execution_count": 10,
   "metadata": {},
   "outputs": [],
   "source": [
    "tfidf_vec = TfidfVectorizer(analyzer='word', \n",
    "                            ngram_range=(1, 1), max_df=1.0, min_df=1, max_features=None)\n",
    "\n",
    "tfidf_train = tfidf_vec.fit(txt)\n",
    "tfidf_bag_of_words = tfidf_vec.transform(txt)"
   ]
  },
  {
   "cell_type": "code",
   "execution_count": null,
   "metadata": {},
   "outputs": [],
   "source": [
    "txt = [\"I do like to play basketball\",\n",
    "       \"I do not like to play basketball\"]"
   ]
  },
  {
   "cell_type": "code",
   "execution_count": 11,
   "metadata": {},
   "outputs": [
    {
     "name": "stdout",
     "output_type": "stream",
     "text": [
      "Vocabulary size: 6\n",
      "Vocabulary content:\n",
      " {'not': 3, 'like': 2, 'to': 5, 'basketball': 0, 'play': 4, 'do': 1}\n",
      "[[0.4472136  0.4472136  0.4472136  0.         0.4472136  0.4472136 ]\n",
      " [0.37863221 0.37863221 0.37863221 0.53215436 0.37863221 0.37863221]]\n"
     ]
    }
   ],
   "source": [
    "print(\"Vocabulary size: {}\".format(len(tfidf_train.vocabulary_)))\n",
    "print(\"Vocabulary content:\\n {}\".format(tfidf_train.vocabulary_))\n",
    "\n",
    "print(tfidf_bag_of_words.toarray())"
   ]
  },
  {
   "cell_type": "markdown",
   "metadata": {},
   "source": [
    "<img src=\"https://cdn-images-1.medium.com/max/1313/1*Z4jV6Bfu4T1eEj5f7UkKMQ.png\" width=\"60%\">"
   ]
  },
  {
   "cell_type": "markdown",
   "metadata": {},
   "source": [
    "\n",
    "### >>>主要可以用以找到頻詞高，且在各個文件中較為獨特的文字!"
   ]
  },
  {
   "cell_type": "markdown",
   "metadata": {},
   "source": [
    "---  \n",
    "\n",
    "      \n",
    "        \n",
    "# <span style=\"color:green\">  D. Word2Vec  </span>"
   ]
  },
  {
   "cell_type": "markdown",
   "metadata": {},
   "source": [
    "* word2vec 是 Google 的一個開源工具，能夠根據輸入的「詞的集合」計算出<span style=\"background:yellow\">詞與詞之間的距離（詞向量/神經網路的權重）。Word2vec 是基於非監督式學習，訓練集建議越大越好，語料涵蓋的越全面，訓練出來的結果相對比較好。</span>\n",
    "* 它將「字詞」轉換成「向量」形式，可以把對文本內容的處理簡化為向量空間中的向量運算，計算出向量空間上的相似度，來表示文本語義上的相似度。\n",
    "* Word2vec，為一群用來產生詞向量的相關模型。這些模型為<span style=\"background:yellow\">淺層雙層的神經網路</span>，用來訓練以重新建構語言學之詞文本。網路以詞表現，並且需猜測相鄰位置的輸入詞，在word2vec中詞袋模型假設下，詞的順序是不重要的。 訓練完成之後，word2vec模型可用來映射每個詞到一個向量，可用來表示詞對詞之間的關係。\n",
    "* size詞向量的維度大小，維度太小會無法有效表達詞與詞的關係，維度太大會使關係太稀疏而難以找出規則，<span style=\"background:yellow\">Kaggle比賽上常用的詞向量維度介於200到300之間</span>\n",
    "\n",
    "我參考的資料：  \n",
    "https://zhuanlan.zhihu.com/p/26306795  \n",
    "http://cpmarkchang.logdown.com/posts/773062-neural-network-word2vec-part-1-overview  \n",
    "https://github.com/kavgan/nlp-text-mining-working-examples/blob/master/word2vec/Word2Vec.ipynb"
   ]
  },
  {
   "cell_type": "markdown",
   "metadata": {},
   "source": [
    "<img src=\"https://cdn-images-1.medium.com/max/1600/1*F5m_AyWnNKDLsMJ13MifIw.png\" width=\"60%\">\n"
   ]
  },
  {
   "cell_type": "markdown",
   "metadata": {},
   "source": [
    " * <p>由於這樣的模型大多是透過非常大的文章集進行訓練，如果用自己的電腦訓練，很有可能會燒掉，因此google很貼心的把已經<a href=\"https://code.google.com/archive/p/word2vec/\" target=\"_blank\">訓練好的模型</a>釋出，當然除了google在2013釋出的模型之外，也有<a href=\"http://ahogrammer.com/2017/01/20/the-list-of-pretrained-word-embeddings/\" target=\"_blank\">其他模型</a>可以給大家下載來玩。</p>\n"
   ]
  },
  {
   "cell_type": "markdown",
   "metadata": {},
   "source": [
    "---  \n",
    "\n",
    "      \n",
    "        \n",
    "# <span style=\"color:green\">  E. Fasttext  </span>"
   ]
  },
  {
   "cell_type": "markdown",
   "metadata": {},
   "source": [
    "* Facebook FAIR實驗室開源了fastText。 Facebook聲稱fastText比其他學習方法要快得多，能夠訓練<span style=\"background:yellow\">模型「在使用標準多核CPU的情況下10分鐘內處理超過10億個詞彙」，fastText能將訓練時間由數天縮短到幾秒鐘。</span>\n",
    "* fastText 專註於<span style=\"background:yellow\">文本分類</span>。這使得在特別大型的數據集上，它能夠被快速訓練。我們使用一個標準多核 CPU，得到了在10分鐘內訓練完超過10億詞彙量模型的結果。此外， fastText還能在五分鐘內將50萬個句子分成超過30萬個類別。\n",
    "* fastText對於許多語言都通用，除了文本分類以外，<span style=\"background:yellow\">fastText也能被用來學習詞彙向量表徵。</span>利用其語言形態結構，fastText能夠被設計用來支持包括英語、德語、西班牙語、法語以及捷克語等多種語言"
   ]
  },
  {
   "cell_type": "markdown",
   "metadata": {},
   "source": [
    "<img src=\"http://i2.bangqu.com/j/news/20180606/749a221528257632166S5173.png\" width=\"80%\">\n",
    "\n",
    "  \n",
    "---\n",
    "* fastText引入了<span style=\"background:yellow\">subword n-gram</span>的概念來解決詞形變化(morphology)的問題。直觀上，它將一個單詞打散到字符級別，並且<span style=\"background:yellow\">利用字符級別的n-gram信息來捕捉字符間的順序關係</span>，希望能夠以此豐富單詞內部更細微的語義。我們知道，西方語言文字常常通過前綴、後綴、字根來構詞，漢語也有單字表義的傳統，所以這樣的做法聽起來還是有一定的道理。\n",
    "\n",
    "\n"
   ]
  },
  {
   "cell_type": "markdown",
   "metadata": {},
   "source": [
    "* 举个例子。对于一个单词“google”，为了表达单词前后边界，我们加入<>两个字符，即变形为“<google>”。假设我们希望抽取所有的tri-gram信息，可以得到如下集合：G = go, goo, oog,ogl, gle, le\n",
    "* 詞袋模型不能考慮詞之間的順序，因此 fastText 還加入了 N-gram 特徵。“我 愛 她” 這句話中的詞袋模型特徵是 “我”，“愛”, “她”。這些特徵和句子 “她 愛 我” 的特徵是一樣的。如果加入 2-Ngram，第一句話的特徵還有 “我-愛” 和 “愛-她”，這兩句話 “我 愛 她” 和 “她 愛 我” 就能區別開來了。當然啦，為了提高效率，我們需要過濾掉低頻的 N-gram。\n",
    "\n",
    "    \n",
    "  \n",
    "* Facebook提供的預先訓練好的詞向量：  \n",
    "https://fasttext.cc/docs/en/crawl-vectors.html"
   ]
  },
  {
   "cell_type": "markdown",
   "metadata": {},
   "source": [
    "\n",
    "# --------------------------------------------------------------------------------------------------------\n",
    "\n",
    "1.  將title/description/param1/param2/param3結合  \n",
    "2.  先做tokenizer，轉成50000/100000/200000詞袋  \n",
    "3.  tokenizer.fit_on_texts，將所有文字轉成對應數字  \n",
    "4.  texts_to_sequences，截短補長成長度50/100的字數，將每個樣本的長度修至相同  \n",
    "5.  套用FASTTEXT PRETRAIN EMBEDDING詞向量\n"
   ]
  },
  {
   "cell_type": "markdown",
   "metadata": {},
   "source": [
    "---\n",
    "# <span style=\"color:navy\"> 3. 特徵前處理 > 數值 </span>"
   ]
  },
  {
   "cell_type": "markdown",
   "metadata": {},
   "source": [
    "* price \n",
    "* avg_days_up_user \n",
    "* avg_times_up_user  \n",
    "* n_user_items  \n",
    "* item_seq_number \n",
    "* latitude\n",
    "* longitude\n",
    "  \n",
    "numpy.log1p(x)：log(1 + x)  \n",
    "log1p() 以返回 log(1 + x)，甚至当 x 的值接近零也能计算出准确结果。"
   ]
  },
  {
   "cell_type": "markdown",
   "metadata": {},
   "source": [
    "---\n",
    "# <span style=\"color:navy\"> 4. 特徵前處理 > 分類 </span>"
   ]
  },
  {
   "cell_type": "markdown",
   "metadata": {},
   "source": [
    "* emb_region\n",
    "* emb_city\n",
    "* emb_city_region_id\n",
    "* emb_day\n",
    "* emb_category_name\n",
    "* emb_parent_category_name\n",
    "* emb_image_code\n",
    "* emb_lat_lon_hdbscan_cluster_05_03\n",
    "* emb_lat_lon_hdbscan_cluster_10_03\n",
    "* emb_lat_lon_hdbscan_cluster_20_03"
   ]
  },
  {
   "cell_type": "markdown",
   "metadata": {},
   "source": [
    "1. 全部套用Label encoding\n",
    "2. 對於分類特徵全部做embedding\n",
    "http://flovv.github.io/Embeddings_with_keras/\n"
   ]
  },
  {
   "cell_type": "code",
   "execution_count": null,
   "metadata": {},
   "outputs": [],
   "source": []
  }
 ],
 "metadata": {
  "kernelspec": {
   "display_name": "Python 3",
   "language": "python",
   "name": "python3"
  },
  "language_info": {
   "codemirror_mode": {
    "name": "ipython",
    "version": 3
   },
   "file_extension": ".py",
   "mimetype": "text/x-python",
   "name": "python",
   "nbconvert_exporter": "python",
   "pygments_lexer": "ipython3",
   "version": "3.6.6"
  }
 },
 "nbformat": 4,
 "nbformat_minor": 2
}
